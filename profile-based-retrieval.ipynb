{
 "cells": [
  {
   "cell_type": "code",
   "execution_count": 1,
   "id": "1655df31",
   "metadata": {
    "execution": {
     "iopub.execute_input": "2022-03-25T11:10:14.025898Z",
     "iopub.status.busy": "2022-03-25T11:10:14.024687Z",
     "iopub.status.idle": "2022-03-25T11:10:15.918429Z",
     "shell.execute_reply": "2022-03-25T11:10:15.917639Z",
     "shell.execute_reply.started": "2022-03-25T10:00:00.542105Z"
    },
    "papermill": {
     "duration": 1.918669,
     "end_time": "2022-03-25T11:10:15.918628",
     "exception": false,
     "start_time": "2022-03-25T11:10:13.999959",
     "status": "completed"
    },
    "tags": []
   },
   "outputs": [],
   "source": [
    "import pandas as pd\n",
    "import numpy as np\n",
    "\n",
    "from sklearn.model_selection import train_test_split, GridSearchCV\n",
    "from sklearn.metrics import accuracy_score, classification_report, balanced_accuracy_score\n",
    "from sklearn.feature_extraction.text import TfidfVectorizer\n",
    "from sklearn.naive_bayes import MultinomialNB, BernoulliNB\n",
    "from sklearn.ensemble import RandomForestClassifier\n",
    "from sklearn.svm import LinearSVC, SVC\n",
    "from sklearn.metrics import accuracy_score, ConfusionMatrixDisplay, confusion_matrix\n",
    "from sklearn.multiclass import OneVsRestClassifier\n",
    "from sklearn.pipeline import Pipeline\n",
    "from sklearn import preprocessing\n",
    "\n",
    "import matplotlib.pyplot as plt\n",
    "plt.style.use('seaborn-white')\n",
    "import seaborn as sns\n",
    "sns.set_style(\"white\")\n",
    "sns.set_style(\"ticks\")\n",
    "sns.set_context(\"notebook\")\n",
    "\n",
    "import re\n",
    "import nltk\n",
    "from nltk.corpus import stopwords\n",
    "from nltk.tokenize import word_tokenize\n",
    "from nltk.stem import PorterStemmer, WordNetLemmatizer\n",
    "from tqdm.notebook import tqdm\n",
    "tqdm.pandas()"
   ]
  },
  {
   "cell_type": "code",
   "execution_count": 2,
   "id": "9b701a72",
   "metadata": {
    "execution": {
     "iopub.execute_input": "2022-03-25T11:10:15.965493Z",
     "iopub.status.busy": "2022-03-25T11:10:15.964811Z",
     "iopub.status.idle": "2022-03-25T11:10:19.876837Z",
     "shell.execute_reply": "2022-03-25T11:10:19.877284Z",
     "shell.execute_reply.started": "2022-03-25T09:49:21.578765Z"
    },
    "papermill": {
     "duration": 3.938471,
     "end_time": "2022-03-25T11:10:19.877452",
     "exception": false,
     "start_time": "2022-03-25T11:10:15.938981",
     "status": "completed"
    },
    "tags": []
   },
   "outputs": [
    {
     "data": {
      "text/plain": [
       "POLITICS         32739\n",
       "WELLNESS         17827\n",
       "ENTERTAINMENT    16058\n",
       "TRAVEL            9887\n",
       "SPORTS            4884\n",
       "Name: category, dtype: int64"
      ]
     },
     "execution_count": 2,
     "metadata": {},
     "output_type": "execute_result"
    }
   ],
   "source": [
    "column_selected = 'headline' # choose short_description or headline\n",
    "classes = ['POLITICS', 'WELLNESS', 'ENTERTAINMENT', 'TRAVEL', 'SPORTS']\n",
    "df = pd.read_json('../input/news-category-dataset/News_Category_Dataset_v2.json', lines=True)\n",
    "df = df[[column_selected, 'category']]\n",
    "df = df[df['category'].isin(classes)]\n",
    "df.category.value_counts()"
   ]
  },
  {
   "cell_type": "code",
   "execution_count": 3,
   "id": "4cd108bf",
   "metadata": {
    "execution": {
     "iopub.execute_input": "2022-03-25T11:10:19.920727Z",
     "iopub.status.busy": "2022-03-25T11:10:19.920109Z",
     "iopub.status.idle": "2022-03-25T11:10:19.931842Z",
     "shell.execute_reply": "2022-03-25T11:10:19.932421Z",
     "shell.execute_reply.started": "2022-03-25T09:49:25.110822Z"
    },
    "papermill": {
     "duration": 0.034881,
     "end_time": "2022-03-25T11:10:19.932628",
     "exception": false,
     "start_time": "2022-03-25T11:10:19.897747",
     "status": "completed"
    },
    "tags": []
   },
   "outputs": [
    {
     "data": {
      "text/html": [
       "<div>\n",
       "<style scoped>\n",
       "    .dataframe tbody tr th:only-of-type {\n",
       "        vertical-align: middle;\n",
       "    }\n",
       "\n",
       "    .dataframe tbody tr th {\n",
       "        vertical-align: top;\n",
       "    }\n",
       "\n",
       "    .dataframe thead th {\n",
       "        text-align: right;\n",
       "    }\n",
       "</style>\n",
       "<table border=\"1\" class=\"dataframe\">\n",
       "  <thead>\n",
       "    <tr style=\"text-align: right;\">\n",
       "      <th></th>\n",
       "      <th>headline</th>\n",
       "      <th>category</th>\n",
       "    </tr>\n",
       "  </thead>\n",
       "  <tbody>\n",
       "    <tr>\n",
       "      <th>200839</th>\n",
       "      <td>'Girl With the Dragon Tattoo' India Release Ca...</td>\n",
       "      <td>ENTERTAINMENT</td>\n",
       "    </tr>\n",
       "    <tr>\n",
       "      <th>200849</th>\n",
       "      <td>Maria Sharapova Stunned By Victoria Azarenka I...</td>\n",
       "      <td>SPORTS</td>\n",
       "    </tr>\n",
       "    <tr>\n",
       "      <th>200850</th>\n",
       "      <td>Giants Over Patriots, Jets Over Colts Among  M...</td>\n",
       "      <td>SPORTS</td>\n",
       "    </tr>\n",
       "    <tr>\n",
       "      <th>200851</th>\n",
       "      <td>Aldon Smith Arrested: 49ers Linebacker Busted ...</td>\n",
       "      <td>SPORTS</td>\n",
       "    </tr>\n",
       "    <tr>\n",
       "      <th>200852</th>\n",
       "      <td>Dwight Howard Rips Teammates After Magic Loss ...</td>\n",
       "      <td>SPORTS</td>\n",
       "    </tr>\n",
       "  </tbody>\n",
       "</table>\n",
       "</div>"
      ],
      "text/plain": [
       "                                                 headline       category\n",
       "200839  'Girl With the Dragon Tattoo' India Release Ca...  ENTERTAINMENT\n",
       "200849  Maria Sharapova Stunned By Victoria Azarenka I...         SPORTS\n",
       "200850  Giants Over Patriots, Jets Over Colts Among  M...         SPORTS\n",
       "200851  Aldon Smith Arrested: 49ers Linebacker Busted ...         SPORTS\n",
       "200852  Dwight Howard Rips Teammates After Magic Loss ...         SPORTS"
      ]
     },
     "execution_count": 3,
     "metadata": {},
     "output_type": "execute_result"
    }
   ],
   "source": [
    "df.tail(5)"
   ]
  },
  {
   "cell_type": "code",
   "execution_count": 4,
   "id": "38b68368",
   "metadata": {
    "execution": {
     "iopub.execute_input": "2022-03-25T11:10:19.976241Z",
     "iopub.status.busy": "2022-03-25T11:10:19.975622Z",
     "iopub.status.idle": "2022-03-25T11:10:20.028982Z",
     "shell.execute_reply": "2022-03-25T11:10:20.029492Z",
     "shell.execute_reply.started": "2022-03-25T09:49:25.129204Z"
    },
    "papermill": {
     "duration": 0.076709,
     "end_time": "2022-03-25T11:10:20.029664",
     "exception": false,
     "start_time": "2022-03-25T11:10:19.952955",
     "status": "completed"
    },
    "tags": []
   },
   "outputs": [],
   "source": [
    "le = preprocessing.LabelEncoder()\n",
    "df['category'] = le.fit_transform(df.category)\n",
    "classes = le.inverse_transform([0,1,2,3,4])"
   ]
  },
  {
   "cell_type": "markdown",
   "id": "296b1828",
   "metadata": {
    "papermill": {
     "duration": 0.021419,
     "end_time": "2022-03-25T11:10:20.072288",
     "exception": false,
     "start_time": "2022-03-25T11:10:20.050869",
     "status": "completed"
    },
    "tags": []
   },
   "source": [
    "#### Number of words"
   ]
  },
  {
   "cell_type": "code",
   "execution_count": 5,
   "id": "0429800a",
   "metadata": {
    "execution": {
     "iopub.execute_input": "2022-03-25T11:10:20.116504Z",
     "iopub.status.busy": "2022-03-25T11:10:20.115890Z",
     "iopub.status.idle": "2022-03-25T11:10:20.740551Z",
     "shell.execute_reply": "2022-03-25T11:10:20.739994Z",
     "shell.execute_reply.started": "2022-03-25T09:49:25.184782Z"
    },
    "papermill": {
     "duration": 0.647647,
     "end_time": "2022-03-25T11:10:20.740700",
     "exception": false,
     "start_time": "2022-03-25T11:10:20.093053",
     "status": "completed"
    },
    "tags": []
   },
   "outputs": [
    {
     "name": "stdout",
     "output_type": "stream",
     "text": [
      "count    81395.00\n",
      "mean         9.59\n",
      "std          3.12\n",
      "min          1.00\n",
      "25%          7.00\n",
      "50%         10.00\n",
      "75%         12.00\n",
      "max         44.00\n",
      "Name: headline, dtype: float64\n"
     ]
    },
    {
     "data": {
      "image/png": "[encoded data removed]",
      "text/plain": [
       "<Figure size 432x288 with 1 Axes>"
      ]
     },
     "metadata": {},
     "output_type": "display_data"
    }
   ],
   "source": [
    "word_lens = df[column_selected].str.split(\" \").str.len()\n",
    "ax = word_lens.plot(kind='hist', bins=15, title='Number of words in the ' + column_selected)\n",
    "ax.set_xlabel(\"# Words\")\n",
    "print(word_lens.describe().round(2))"
   ]
  },
  {
   "cell_type": "code",
   "execution_count": 6,
   "id": "e90c5aae",
   "metadata": {
    "execution": {
     "iopub.execute_input": "2022-03-25T11:10:20.791334Z",
     "iopub.status.busy": "2022-03-25T11:10:20.790383Z",
     "iopub.status.idle": "2022-03-25T11:10:20.793502Z",
     "shell.execute_reply": "2022-03-25T11:10:20.792866Z",
     "shell.execute_reply.started": "2022-03-25T09:49:25.800179Z"
    },
    "papermill": {
     "duration": 0.03097,
     "end_time": "2022-03-25T11:10:20.793662",
     "exception": false,
     "start_time": "2022-03-25T11:10:20.762692",
     "status": "completed"
    },
    "tags": []
   },
   "outputs": [],
   "source": [
    "df_final = df.copy()"
   ]
  },
  {
   "cell_type": "markdown",
   "id": "f06af22c",
   "metadata": {
    "papermill": {
     "duration": 0.021169,
     "end_time": "2022-03-25T11:10:20.836697",
     "exception": false,
     "start_time": "2022-03-25T11:10:20.815528",
     "status": "completed"
    },
    "tags": []
   },
   "source": [
    "# Normalize text\n",
    "- Lower-case text.\n",
    "- Replacing contractions.\n",
    "- Cleaning up special characters.\n",
    "- Removing extra whitespaces.\n",
    "- Removing stopwords.\n",
    "- Stemming."
   ]
  },
  {
   "cell_type": "code",
   "execution_count": 7,
   "id": "4e9b0a08",
   "metadata": {
    "execution": {
     "iopub.execute_input": "2022-03-25T11:10:20.894927Z",
     "iopub.status.busy": "2022-03-25T11:10:20.888453Z",
     "iopub.status.idle": "2022-03-25T11:10:20.896615Z",
     "shell.execute_reply": "2022-03-25T11:10:20.897218Z",
     "shell.execute_reply.started": "2022-03-25T09:49:25.810532Z"
    },
    "papermill": {
     "duration": 0.039225,
     "end_time": "2022-03-25T11:10:20.897399",
     "exception": false,
     "start_time": "2022-03-25T11:10:20.858174",
     "status": "completed"
    },
    "tags": []
   },
   "outputs": [],
   "source": [
    "class Normalizer:\n",
    "    def __init__(self):\n",
    "        self.stop_words = set(stopwords.words('english'))\n",
    "        self.ps = PorterStemmer() # Create Stemmer\n",
    "        self.word_net = WordNetLemmatizer() #Create Lemmatizer\n",
    "    \n",
    "    def remove_punct(self, text):\n",
    "        text = text.lower() # To lower case\n",
    "        # Replace contractions\n",
    "        text = re.sub(r\"\\'s\", \" is \", text)\n",
    "        text = re.sub(r\"\\'ve\", \" have \", text)\n",
    "        text = re.sub(r\"can't\", \"can not \", text)\n",
    "        text = re.sub(r\"n't\", \" not \", text)\n",
    "        text = re.sub(r\"i'm\", \"i am \", text)\n",
    "        text = re.sub(r\"\\'re\", \" are \", text)\n",
    "        text = re.sub(r\"\\'d\", \" would \", text)\n",
    "        text = re.sub(r\"\\'ll\", \" will \", text)\n",
    "        text = re.sub('\\W', ' ', text) # Replace any character which is not a word character\n",
    "        text = re.sub('\\s+', ' ', text) # Replace any whitespace character\n",
    "        text = re.sub(' +', ' ', text) # Replace multiple whitespaces\n",
    "        text = text.strip() # Delete sorrounding whitespaces\n",
    "        return text\n",
    "    \n",
    "    def tokenize(self, text):\n",
    "        return word_tokenize(text)\n",
    "    \n",
    "    def remove_stop_words(self, tokens):\n",
    "        return [word for word in tokens if not word in self.stop_words] \n",
    "    \n",
    "    def stemming(self, tokens):\n",
    "        return [ps.stem(word) for word in tokens]\n",
    "    \n",
    "    def lemmatize(self, tokens):\n",
    "        return [self.word_net.lemmatize(word) for word in tokens]\n",
    "    \n",
    "    def return_sentences(self, tokens):\n",
    "        return \" \".join(tokens)\n",
    "    \n",
    "    def clean_all(self, text):\n",
    "        text = self.remove_punct(text)\n",
    "        tokens = self.tokenize(text)\n",
    "        tokens = self.remove_stop_words(tokens)\n",
    "        tokens = self.lemmatize(tokens)\n",
    "        text = self.return_sentences(tokens)\n",
    "        return text"
   ]
  },
  {
   "cell_type": "code",
   "execution_count": 8,
   "id": "70a910cf",
   "metadata": {
    "execution": {
     "iopub.execute_input": "2022-03-25T11:10:20.948691Z",
     "iopub.status.busy": "2022-03-25T11:10:20.947924Z",
     "iopub.status.idle": "2022-03-25T11:10:44.282369Z",
     "shell.execute_reply": "2022-03-25T11:10:44.281822Z",
     "shell.execute_reply.started": "2022-03-25T09:49:25.827962Z"
    },
    "papermill": {
     "duration": 23.362148,
     "end_time": "2022-03-25T11:10:44.282535",
     "exception": false,
     "start_time": "2022-03-25T11:10:20.920387",
     "status": "completed"
    },
    "tags": []
   },
   "outputs": [
    {
     "data": {
      "application/vnd.jupyter.widget-view+json": {
       "model_id": "455eac2f1887497eb8963c175a353873",
       "version_major": 2,
       "version_minor": 0
      },
      "text/plain": [
       "  0%|          | 0/81395 [00:00<?, ?it/s]"
      ]
     },
     "metadata": {},
     "output_type": "display_data"
    }
   ],
   "source": [
    "norm = Normalizer()\n",
    "df_final[column_selected] = df_final[column_selected].progress_apply(lambda x: norm.clean_all(x))"
   ]
  },
  {
   "cell_type": "code",
   "execution_count": 9,
   "id": "eb072186",
   "metadata": {
    "execution": {
     "iopub.execute_input": "2022-03-25T11:10:44.334386Z",
     "iopub.status.busy": "2022-03-25T11:10:44.333759Z",
     "iopub.status.idle": "2022-03-25T11:10:44.341329Z",
     "shell.execute_reply": "2022-03-25T11:10:44.340783Z",
     "shell.execute_reply.started": "2022-03-25T09:49:49.633929Z"
    },
    "papermill": {
     "duration": 0.034546,
     "end_time": "2022-03-25T11:10:44.341468",
     "exception": false,
     "start_time": "2022-03-25T11:10:44.306922",
     "status": "completed"
    },
    "tags": []
   },
   "outputs": [
    {
     "name": "stdout",
     "output_type": "stream",
     "text": [
      "Original: Trump Abruptly Cancels North Korea Summit With Kim Jong Un\n",
      "New: trump abruptly cancel north korea summit kim jong un\n"
     ]
    }
   ],
   "source": [
    "print('Original: ' + df[column_selected].iloc[50])\n",
    "print('New: ' + df_final[column_selected].iloc[50])"
   ]
  },
  {
   "cell_type": "markdown",
   "id": "a5b4aaad",
   "metadata": {
    "papermill": {
     "duration": 0.022728,
     "end_time": "2022-03-25T11:10:44.388598",
     "exception": false,
     "start_time": "2022-03-25T11:10:44.365870",
     "status": "completed"
    },
    "tags": []
   },
   "source": [
    "Split in train (80%) and test (20%):"
   ]
  },
  {
   "cell_type": "code",
   "execution_count": 10,
   "id": "929ec60d",
   "metadata": {
    "execution": {
     "iopub.execute_input": "2022-03-25T11:10:44.440664Z",
     "iopub.status.busy": "2022-03-25T11:10:44.439865Z",
     "iopub.status.idle": "2022-03-25T11:10:44.487408Z",
     "shell.execute_reply": "2022-03-25T11:10:44.486839Z",
     "shell.execute_reply.started": "2022-03-25T09:49:49.646591Z"
    },
    "papermill": {
     "duration": 0.075992,
     "end_time": "2022-03-25T11:10:44.487607",
     "exception": false,
     "start_time": "2022-03-25T11:10:44.411615",
     "status": "completed"
    },
    "tags": []
   },
   "outputs": [
    {
     "name": "stdout",
     "output_type": "stream",
     "text": [
      "(65116,)\n",
      "(16279,)\n"
     ]
    }
   ],
   "source": [
    "X = df_final[column_selected]\n",
    "y = df_final.category\n",
    "\n",
    "X_train, X_test, y_train, y_test = train_test_split(X, y, test_size=0.2, random_state=9, stratify=y)\n",
    "print(X_train.shape)\n",
    "print(X_test.shape)"
   ]
  },
  {
   "cell_type": "markdown",
   "id": "dc577e07",
   "metadata": {
    "papermill": {
     "duration": 0.024024,
     "end_time": "2022-03-25T11:10:44.536309",
     "exception": false,
     "start_time": "2022-03-25T11:10:44.512285",
     "status": "completed"
    },
    "tags": []
   },
   "source": [
    "### TF-IDF\n",
    "\n",
    "Apply Tf-Idf strategy to encode the text:"
   ]
  },
  {
   "cell_type": "code",
   "execution_count": 11,
   "id": "52346767",
   "metadata": {
    "execution": {
     "iopub.execute_input": "2022-03-25T11:10:44.587715Z",
     "iopub.status.busy": "2022-03-25T11:10:44.587059Z",
     "iopub.status.idle": "2022-03-25T11:10:45.638704Z",
     "shell.execute_reply": "2022-03-25T11:10:45.637778Z",
     "shell.execute_reply.started": "2022-03-25T09:49:49.713019Z"
    },
    "papermill": {
     "duration": 1.079021,
     "end_time": "2022-03-25T11:10:45.638862",
     "exception": false,
     "start_time": "2022-03-25T11:10:44.559841",
     "status": "completed"
    },
    "tags": []
   },
   "outputs": [
    {
     "name": "stdout",
     "output_type": "stream",
     "text": [
      "Vocabulary: 5910\n",
      "Original: mueller threatened subpoena trump lawyer refused sit interview\n",
      "Encoded:   (0, 2751)\t0.2995407895110241\n",
      "  (0, 4861)\t0.39155313933126545\n",
      "  (0, 4349)\t0.4206528832271136\n",
      "  (0, 3046)\t0.31529782035377196\n",
      "  (0, 5511)\t0.14287966496142335\n",
      "  (0, 5132)\t0.4206528832271136\n",
      "  (0, 5358)\t0.40562213941864717\n",
      "  (0, 3537)\t0.344539002144151\n"
     ]
    }
   ],
   "source": [
    "# Ignore words that appear in less than 10 document and more than 80% of the documents\n",
    "tfidf = TfidfVectorizer(max_df=0.8, min_df=10)\n",
    "X_train_enc = tfidf.fit_transform(X_train)\n",
    "X_test_enc = tfidf.transform(X_test)\n",
    "\n",
    "print('Vocabulary: ' + str(X_train_enc.shape[1]))\n",
    "print('Original: ' + X_train.iloc[0])\n",
    "print('Encoded: ' + str(X_train_enc[0]))"
   ]
  },
  {
   "cell_type": "code",
   "execution_count": 12,
   "id": "1de07f21",
   "metadata": {
    "execution": {
     "iopub.execute_input": "2022-03-25T11:10:45.695243Z",
     "iopub.status.busy": "2022-03-25T11:10:45.694550Z",
     "iopub.status.idle": "2022-03-25T11:11:30.295143Z",
     "shell.execute_reply": "2022-03-25T11:11:30.294647Z",
     "shell.execute_reply.started": "2022-03-25T11:06:13.935066Z"
    },
    "papermill": {
     "duration": 44.631721,
     "end_time": "2022-03-25T11:11:30.295295",
     "exception": false,
     "start_time": "2022-03-25T11:10:45.663574",
     "status": "completed"
    },
    "tags": []
   },
   "outputs": [
    {
     "name": "stdout",
     "output_type": "stream",
     "text": [
      "Fitting 5 folds for each of 40 candidates, totalling 200 fits\n"
     ]
    },
    {
     "name": "stderr",
     "output_type": "stream",
     "text": [
      "/opt/conda/lib/python3.7/site-packages/sklearn/model_selection/_validation.py:372: FitFailedWarning: \n",
      "100 fits failed out of a total of 200.\n",
      "The score on these train-test partitions for these parameters will be set to nan.\n",
      "If these failures are not expected, you can try to debug them by setting error_score='raise'.\n",
      "\n",
      "Below are more details about the failures:\n",
      "--------------------------------------------------------------------------------\n",
      "50 fits failed with the following error:\n",
      "Traceback (most recent call last):\n",
      "  File \"/opt/conda/lib/python3.7/site-packages/sklearn/model_selection/_validation.py\", line 681, in _fit_and_score\n",
      "    estimator.fit(X_train, y_train, **fit_params)\n",
      "  File \"/opt/conda/lib/python3.7/site-packages/sklearn/svm/_classes.py\", line 272, in fit\n",
      "    sample_weight=sample_weight,\n",
      "  File \"/opt/conda/lib/python3.7/site-packages/sklearn/svm/_base.py\", line 1185, in _fit_liblinear\n",
      "    solver_type = _get_liblinear_solver_type(multi_class, penalty, loss, dual)\n",
      "  File \"/opt/conda/lib/python3.7/site-packages/sklearn/svm/_base.py\", line 1026, in _get_liblinear_solver_type\n",
      "    % (error_string, penalty, loss, dual)\n",
      "ValueError: Unsupported set of arguments: The combination of penalty='l1' and loss='hinge' is not supported, Parameters: penalty='l1', loss='hinge', dual=True\n",
      "\n",
      "--------------------------------------------------------------------------------\n",
      "50 fits failed with the following error:\n",
      "Traceback (most recent call last):\n",
      "  File \"/opt/conda/lib/python3.7/site-packages/sklearn/model_selection/_validation.py\", line 681, in _fit_and_score\n",
      "    estimator.fit(X_train, y_train, **fit_params)\n",
      "  File \"/opt/conda/lib/python3.7/site-packages/sklearn/svm/_classes.py\", line 272, in fit\n",
      "    sample_weight=sample_weight,\n",
      "  File \"/opt/conda/lib/python3.7/site-packages/sklearn/svm/_base.py\", line 1185, in _fit_liblinear\n",
      "    solver_type = _get_liblinear_solver_type(multi_class, penalty, loss, dual)\n",
      "  File \"/opt/conda/lib/python3.7/site-packages/sklearn/svm/_base.py\", line 1026, in _get_liblinear_solver_type\n",
      "    % (error_string, penalty, loss, dual)\n",
      "ValueError: Unsupported set of arguments: The combination of penalty='l1' and loss='squared_hinge' are not supported when dual=True, Parameters: penalty='l1', loss='squared_hinge', dual=True\n",
      "\n",
      "  warnings.warn(some_fits_failed_message, FitFailedWarning)\n",
      "/opt/conda/lib/python3.7/site-packages/sklearn/model_selection/_search.py:972: UserWarning: One or more of the test scores are non-finite: [       nan 0.84366566        nan 0.85333222        nan 0.85063133\n",
      "        nan 0.85573721        nan 0.8533633         nan 0.8560299\n",
      "        nan 0.85449254        nan 0.85462751        nan 0.85464799\n",
      "        nan 0.85357817        nan 0.85530543        nan 0.85324236\n",
      "        nan 0.85505807        nan 0.85222667        nan 0.85499108\n",
      "        nan 0.85144331        nan 0.85486437        nan 0.85062617\n",
      "        nan 0.85447319        nan 0.84983577]\n",
      "  category=UserWarning,\n"
     ]
    },
    {
     "data": {
      "text/plain": [
       "GridSearchCV(cv=5, estimator=LinearSVC(random_state=9), n_jobs=-1,\n",
       "             param_grid={'C': array([0.1, 0.2, 0.3, 0.4, 0.5, 0.6, 0.7, 0.8, 0.9, 1. ]),\n",
       "                         'class_weight': ['balanced'],\n",
       "                         'loss': ['hinge', 'squared_hinge'],\n",
       "                         'penalty': ['l1', 'l2']},\n",
       "             scoring='balanced_accuracy', verbose=1)"
      ]
     },
     "execution_count": 12,
     "metadata": {},
     "output_type": "execute_result"
    }
   ],
   "source": [
    "param_grid = { \n",
    "    'penalty': ['l1', 'l2'],\n",
    "    'loss' : ['hinge', 'squared_hinge'],\n",
    "    'C': np.arange(0.1, 1.1, 0.1),\n",
    "    'class_weight': ['balanced']\n",
    "}\n",
    "\n",
    "svc = LinearSVC(random_state=9)\n",
    "# Stratified Kfold by default (cv)\n",
    "clf = GridSearchCV(estimator=svc, param_grid=param_grid, cv= 5,\n",
    "                   scoring='balanced_accuracy', refit=True,\n",
    "                   return_train_score=False, n_jobs=-1, verbose=1)\n",
    "clf.fit(X_train_enc, y_train)"
   ]
  },
  {
   "cell_type": "code",
   "execution_count": 13,
   "id": "a83dceb5",
   "metadata": {
    "execution": {
     "iopub.execute_input": "2022-03-25T11:11:30.349199Z",
     "iopub.status.busy": "2022-03-25T11:11:30.348215Z",
     "iopub.status.idle": "2022-03-25T11:11:30.376660Z",
     "shell.execute_reply": "2022-03-25T11:11:30.377177Z",
     "shell.execute_reply.started": "2022-03-25T11:08:57.047659Z"
    },
    "papermill": {
     "duration": 0.05739,
     "end_time": "2022-03-25T11:11:30.377347",
     "exception": false,
     "start_time": "2022-03-25T11:11:30.319957",
     "status": "completed"
    },
    "tags": []
   },
   "outputs": [
    {
     "data": {
      "text/html": [
       "<div>\n",
       "<style scoped>\n",
       "    .dataframe tbody tr th:only-of-type {\n",
       "        vertical-align: middle;\n",
       "    }\n",
       "\n",
       "    .dataframe tbody tr th {\n",
       "        vertical-align: top;\n",
       "    }\n",
       "\n",
       "    .dataframe thead th {\n",
       "        text-align: right;\n",
       "    }\n",
       "</style>\n",
       "<table border=\"1\" class=\"dataframe\">\n",
       "  <thead>\n",
       "    <tr style=\"text-align: right;\">\n",
       "      <th></th>\n",
       "      <th>mean_fit_time</th>\n",
       "      <th>std_fit_time</th>\n",
       "      <th>mean_score_time</th>\n",
       "      <th>std_score_time</th>\n",
       "      <th>param_C</th>\n",
       "      <th>param_class_weight</th>\n",
       "      <th>param_loss</th>\n",
       "      <th>param_penalty</th>\n",
       "      <th>params</th>\n",
       "      <th>split0_test_score</th>\n",
       "      <th>split1_test_score</th>\n",
       "      <th>split2_test_score</th>\n",
       "      <th>split3_test_score</th>\n",
       "      <th>split4_test_score</th>\n",
       "      <th>mean_test_score</th>\n",
       "      <th>std_test_score</th>\n",
       "      <th>rank_test_score</th>\n",
       "    </tr>\n",
       "  </thead>\n",
       "  <tbody>\n",
       "    <tr>\n",
       "      <th>11</th>\n",
       "      <td>0.967540</td>\n",
       "      <td>0.028776</td>\n",
       "      <td>0.006462</td>\n",
       "      <td>0.000313</td>\n",
       "      <td>0.3</td>\n",
       "      <td>balanced</td>\n",
       "      <td>squared_hinge</td>\n",
       "      <td>l2</td>\n",
       "      <td>{'C': 0.30000000000000004, 'class_weight': 'ba...</td>\n",
       "      <td>0.856854</td>\n",
       "      <td>0.855061</td>\n",
       "      <td>0.856449</td>\n",
       "      <td>0.855871</td>\n",
       "      <td>0.855914</td>\n",
       "      <td>0.856030</td>\n",
       "      <td>0.000605</td>\n",
       "      <td>1</td>\n",
       "    </tr>\n",
       "    <tr>\n",
       "      <th>7</th>\n",
       "      <td>1.040520</td>\n",
       "      <td>0.046135</td>\n",
       "      <td>0.007669</td>\n",
       "      <td>0.001626</td>\n",
       "      <td>0.2</td>\n",
       "      <td>balanced</td>\n",
       "      <td>squared_hinge</td>\n",
       "      <td>l2</td>\n",
       "      <td>{'C': 0.2, 'class_weight': 'balanced', 'loss':...</td>\n",
       "      <td>0.856540</td>\n",
       "      <td>0.855983</td>\n",
       "      <td>0.856505</td>\n",
       "      <td>0.854540</td>\n",
       "      <td>0.855119</td>\n",
       "      <td>0.855737</td>\n",
       "      <td>0.000789</td>\n",
       "      <td>2</td>\n",
       "    </tr>\n",
       "    <tr>\n",
       "      <th>21</th>\n",
       "      <td>2.146347</td>\n",
       "      <td>0.166450</td>\n",
       "      <td>0.006360</td>\n",
       "      <td>0.000214</td>\n",
       "      <td>0.6</td>\n",
       "      <td>balanced</td>\n",
       "      <td>hinge</td>\n",
       "      <td>l2</td>\n",
       "      <td>{'C': 0.6, 'class_weight': 'balanced', 'loss':...</td>\n",
       "      <td>0.856698</td>\n",
       "      <td>0.853834</td>\n",
       "      <td>0.855113</td>\n",
       "      <td>0.855454</td>\n",
       "      <td>0.855428</td>\n",
       "      <td>0.855305</td>\n",
       "      <td>0.000914</td>\n",
       "      <td>3</td>\n",
       "    </tr>\n",
       "    <tr>\n",
       "      <th>25</th>\n",
       "      <td>2.546001</td>\n",
       "      <td>0.227068</td>\n",
       "      <td>0.006341</td>\n",
       "      <td>0.000171</td>\n",
       "      <td>0.7</td>\n",
       "      <td>balanced</td>\n",
       "      <td>hinge</td>\n",
       "      <td>l2</td>\n",
       "      <td>{'C': 0.7000000000000001, 'class_weight': 'bal...</td>\n",
       "      <td>0.856576</td>\n",
       "      <td>0.854197</td>\n",
       "      <td>0.852950</td>\n",
       "      <td>0.856099</td>\n",
       "      <td>0.855468</td>\n",
       "      <td>0.855058</td>\n",
       "      <td>0.001322</td>\n",
       "      <td>4</td>\n",
       "    </tr>\n",
       "    <tr>\n",
       "      <th>29</th>\n",
       "      <td>2.625006</td>\n",
       "      <td>0.161974</td>\n",
       "      <td>0.006314</td>\n",
       "      <td>0.000111</td>\n",
       "      <td>0.8</td>\n",
       "      <td>balanced</td>\n",
       "      <td>hinge</td>\n",
       "      <td>l2</td>\n",
       "      <td>{'C': 0.8, 'class_weight': 'balanced', 'loss':...</td>\n",
       "      <td>0.857673</td>\n",
       "      <td>0.854546</td>\n",
       "      <td>0.853803</td>\n",
       "      <td>0.854790</td>\n",
       "      <td>0.854143</td>\n",
       "      <td>0.854991</td>\n",
       "      <td>0.001383</td>\n",
       "      <td>5</td>\n",
       "    </tr>\n",
       "  </tbody>\n",
       "</table>\n",
       "</div>"
      ],
      "text/plain": [
       "    mean_fit_time  std_fit_time  mean_score_time  std_score_time param_C  \\\n",
       "11       0.967540      0.028776         0.006462        0.000313     0.3   \n",
       "7        1.040520      0.046135         0.007669        0.001626     0.2   \n",
       "21       2.146347      0.166450         0.006360        0.000214     0.6   \n",
       "25       2.546001      0.227068         0.006341        0.000171     0.7   \n",
       "29       2.625006      0.161974         0.006314        0.000111     0.8   \n",
       "\n",
       "   param_class_weight     param_loss param_penalty  \\\n",
       "11           balanced  squared_hinge            l2   \n",
       "7            balanced  squared_hinge            l2   \n",
       "21           balanced          hinge            l2   \n",
       "25           balanced          hinge            l2   \n",
       "29           balanced          hinge            l2   \n",
       "\n",
       "                                               params  split0_test_score  \\\n",
       "11  {'C': 0.30000000000000004, 'class_weight': 'ba...           0.856854   \n",
       "7   {'C': 0.2, 'class_weight': 'balanced', 'loss':...           0.856540   \n",
       "21  {'C': 0.6, 'class_weight': 'balanced', 'loss':...           0.856698   \n",
       "25  {'C': 0.7000000000000001, 'class_weight': 'bal...           0.856576   \n",
       "29  {'C': 0.8, 'class_weight': 'balanced', 'loss':...           0.857673   \n",
       "\n",
       "    split1_test_score  split2_test_score  split3_test_score  \\\n",
       "11           0.855061           0.856449           0.855871   \n",
       "7            0.855983           0.856505           0.854540   \n",
       "21           0.853834           0.855113           0.855454   \n",
       "25           0.854197           0.852950           0.856099   \n",
       "29           0.854546           0.853803           0.854790   \n",
       "\n",
       "    split4_test_score  mean_test_score  std_test_score  rank_test_score  \n",
       "11           0.855914         0.856030        0.000605                1  \n",
       "7            0.855119         0.855737        0.000789                2  \n",
       "21           0.855428         0.855305        0.000914                3  \n",
       "25           0.855468         0.855058        0.001322                4  \n",
       "29           0.854143         0.854991        0.001383                5  "
      ]
     },
     "execution_count": 13,
     "metadata": {},
     "output_type": "execute_result"
    }
   ],
   "source": [
    "pd.DataFrame(clf.cv_results_).sort_values('rank_test_score').head(5)"
   ]
  },
  {
   "cell_type": "code",
   "execution_count": 14,
   "id": "4052bf44",
   "metadata": {
    "execution": {
     "iopub.execute_input": "2022-03-25T11:11:30.431828Z",
     "iopub.status.busy": "2022-03-25T11:11:30.431142Z",
     "iopub.status.idle": "2022-03-25T11:11:30.436063Z",
     "shell.execute_reply": "2022-03-25T11:11:30.436624Z",
     "shell.execute_reply.started": "2022-03-25T11:09:09.659923Z"
    },
    "papermill": {
     "duration": 0.033799,
     "end_time": "2022-03-25T11:11:30.436801",
     "exception": false,
     "start_time": "2022-03-25T11:11:30.403002",
     "status": "completed"
    },
    "tags": []
   },
   "outputs": [
    {
     "name": "stdout",
     "output_type": "stream",
     "text": [
      "0.8560299039267771\n",
      "{'C': 0.30000000000000004, 'class_weight': 'balanced', 'loss': 'squared_hinge', 'penalty': 'l2'}\n"
     ]
    }
   ],
   "source": [
    "print(clf.best_score_)\n",
    "print(clf.best_params_)"
   ]
  },
  {
   "cell_type": "code",
   "execution_count": 15,
   "id": "fcb855f9",
   "metadata": {
    "execution": {
     "iopub.execute_input": "2022-03-25T11:11:30.494330Z",
     "iopub.status.busy": "2022-03-25T11:11:30.493182Z",
     "iopub.status.idle": "2022-03-25T11:11:30.534681Z",
     "shell.execute_reply": "2022-03-25T11:11:30.534021Z",
     "shell.execute_reply.started": "2022-03-25T11:09:19.324743Z"
    },
    "papermill": {
     "duration": 0.072715,
     "end_time": "2022-03-25T11:11:30.534830",
     "exception": false,
     "start_time": "2022-03-25T11:11:30.462115",
     "status": "completed"
    },
    "tags": []
   },
   "outputs": [
    {
     "name": "stdout",
     "output_type": "stream",
     "text": [
      "0.8778180477916334\n",
      "0.8563275599059541\n",
      "              precision    recall  f1-score   support\n",
      "\n",
      "           0       0.86      0.85      0.85      3212\n",
      "           1       0.94      0.91      0.92      6548\n",
      "           2       0.76      0.79      0.77       977\n",
      "           3       0.83      0.85      0.84      1977\n",
      "           4       0.84      0.88      0.86      3565\n",
      "\n",
      "    accuracy                           0.88     16279\n",
      "   macro avg       0.85      0.86      0.85     16279\n",
      "weighted avg       0.88      0.88      0.88     16279\n",
      "\n"
     ]
    }
   ],
   "source": [
    "predictions = clf.predict(X_test_enc)\n",
    "print(accuracy_score(y_test, predictions))\n",
    "print(balanced_accuracy_score(y_test, predictions))\n",
    "print(classification_report(y_test, predictions))"
   ]
  },
  {
   "cell_type": "code",
   "execution_count": 16,
   "id": "bc190bf3",
   "metadata": {
    "execution": {
     "iopub.execute_input": "2022-03-25T11:11:30.613150Z",
     "iopub.status.busy": "2022-03-25T11:11:30.612141Z",
     "iopub.status.idle": "2022-03-25T11:11:30.900328Z",
     "shell.execute_reply": "2022-03-25T11:11:30.899811Z",
     "shell.execute_reply.started": "2022-03-25T11:09:22.091258Z"
    },
    "papermill": {
     "duration": 0.339566,
     "end_time": "2022-03-25T11:11:30.900470",
     "exception": false,
     "start_time": "2022-03-25T11:11:30.560904",
     "status": "completed"
    },
    "tags": []
   },
   "outputs": [
    {
     "data": {
      "image/png": "[encoded data removed]",
      "text/plain": [
       "<Figure size 720x576 with 2 Axes>"
      ]
     },
     "metadata": {},
     "output_type": "display_data"
    }
   ],
   "source": [
    "# Plot confusion matrix\n",
    "fig, ax = plt.subplots(figsize=(10, 8))\n",
    "cmp = ConfusionMatrixDisplay(\n",
    "    confusion_matrix(y_test, predictions),\n",
    "    display_labels=classes,\n",
    ")\n",
    "\n",
    "cmp.plot(ax=ax)\n",
    "plt.show()"
   ]
  }
 ],
 "metadata": {
  "kernelspec": {
   "display_name": "Python 3",
   "language": "python",
   "name": "python3"
  },
  "language_info": {
   "codemirror_mode": {
    "name": "ipython",
    "version": 3
   },
   "file_extension": ".py",
   "mimetype": "text/x-python",
   "name": "python",
   "nbconvert_exporter": "python",
   "pygments_lexer": "ipython3",
   "version": "3.7.12"
  },
  "papermill": {
   "default_parameters": {},
   "duration": 87.59611,
   "end_time": "2022-03-25T11:11:32.147381",
   "environment_variables": {},
   "exception": null,
   "input_path": "__notebook__.ipynb",
   "output_path": "__notebook__.ipynb",
   "parameters": {},
   "start_time": "2022-03-25T11:10:04.551271",
   "version": "2.3.3"
  },
  "widgets": {
   "application/vnd.jupyter.widget-state+json": {
    "state": {
     "030aaed508c3497ea892feb731ce23fb": {
      "model_module": "@jupyter-widgets/controls",
      "model_module_version": "1.5.0",
      "model_name": "ProgressStyleModel",
      "state": {
       "_model_module": "@jupyter-widgets/controls",
       "_model_module_version": "1.5.0",
       "_model_name": "ProgressStyleModel",
       "_view_count": null,
       "_view_module": "@jupyter-widgets/base",
       "_view_module_version": "1.2.0",
       "_view_name": "StyleView",
       "bar_color": null,
       "description_width": ""
      }
     },
     "455eac2f1887497eb8963c175a353873": {
      "model_module": "@jupyter-widgets/controls",
      "model_module_version": "1.5.0",
      "model_name": "HBoxModel",
      "state": {
       "_dom_classes": [],
       "_model_module": "@jupyter-widgets/controls",
       "_model_module_version": "1.5.0",
       "_model_name": "HBoxModel",
       "_view_count": null,
       "_view_module": "@jupyter-widgets/controls",
       "_view_module_version": "1.5.0",
       "_view_name": "HBoxView",
       "box_style": "",
       "children": [
        "IPY_MODEL_b37d84899ea34269aa7ea6b406d487cd",
        "IPY_MODEL_52079343e9ce4c55a5ac5dd1935c5387",
        "IPY_MODEL_bac20268cd0744be892c7580d5caa7bf"
       ],
       "layout": "IPY_MODEL_ce98366c845041488bc8ff1bdb80d21d"
      }
     },
     "463000ad1d934bfd8e57bf1e5eb687eb": {
      "model_module": "@jupyter-widgets/base",
      "model_module_version": "1.2.0",
      "model_name": "LayoutModel",
      "state": {
       "_model_module": "@jupyter-widgets/base",
       "_model_module_version": "1.2.0",
       "_model_name": "LayoutModel",
       "_view_count": null,
       "_view_module": "@jupyter-widgets/base",
       "_view_module_version": "1.2.0",
       "_view_name": "LayoutView",
       "align_content": null,
       "align_items": null,
       "align_self": null,
       "border": null,
       "bottom": null,
       "display": null,
       "flex": null,
       "flex_flow": null,
       "grid_area": null,
       "grid_auto_columns": null,
       "grid_auto_flow": null,
       "grid_auto_rows": null,
       "grid_column": null,
       "grid_gap": null,
       "grid_row": null,
       "grid_template_areas": null,
       "grid_template_columns": null,
       "grid_template_rows": null,
       "height": null,
       "justify_content": null,
       "justify_items": null,
       "left": null,
       "margin": null,
       "max_height": null,
       "max_width": null,
       "min_height": null,
       "min_width": null,
       "object_fit": null,
       "object_position": null,
       "order": null,
       "overflow": null,
       "overflow_x": null,
       "overflow_y": null,
       "padding": null,
       "right": null,
       "top": null,
       "visibility": null,
       "width": null
      }
     },
     "52079343e9ce4c55a5ac5dd1935c5387": {
      "model_module": "@jupyter-widgets/controls",
      "model_module_version": "1.5.0",
      "model_name": "FloatProgressModel",
      "state": {
       "_dom_classes": [],
       "_model_module": "@jupyter-widgets/controls",
       "_model_module_version": "1.5.0",
       "_model_name": "FloatProgressModel",
       "_view_count": null,
       "_view_module": "@jupyter-widgets/controls",
       "_view_module_version": "1.5.0",
       "_view_name": "ProgressView",
       "bar_style": "success",
       "description": "",
       "description_tooltip": null,
       "layout": "IPY_MODEL_463000ad1d934bfd8e57bf1e5eb687eb",
       "max": 81395.0,
       "min": 0.0,
       "orientation": "horizontal",
       "style": "IPY_MODEL_030aaed508c3497ea892feb731ce23fb",
       "value": 81395.0
      }
     },
     "9ef8d0742fd44abebfe44cc79c9000e9": {
      "model_module": "@jupyter-widgets/base",
      "model_module_version": "1.2.0",
      "model_name": "LayoutModel",
      "state": {
       "_model_module": "@jupyter-widgets/base",
       "_model_module_version": "1.2.0",
       "_model_name": "LayoutModel",
       "_view_count": null,
       "_view_module": "@jupyter-widgets/base",
       "_view_module_version": "1.2.0",
       "_view_name": "LayoutView",
       "align_content": null,
       "align_items": null,
       "align_self": null,
       "border": null,
       "bottom": null,
       "display": null,
       "flex": null,
       "flex_flow": null,
       "grid_area": null,
       "grid_auto_columns": null,
       "grid_auto_flow": null,
       "grid_auto_rows": null,
       "grid_column": null,
       "grid_gap": null,
       "grid_row": null,
       "grid_template_areas": null,
       "grid_template_columns": null,
       "grid_template_rows": null,
       "height": null,
       "justify_content": null,
       "justify_items": null,
       "left": null,
       "margin": null,
       "max_height": null,
       "max_width": null,
       "min_height": null,
       "min_width": null,
       "object_fit": null,
       "object_position": null,
       "order": null,
       "overflow": null,
       "overflow_x": null,
       "overflow_y": null,
       "padding": null,
       "right": null,
       "top": null,
       "visibility": null,
       "width": null
      }
     },
     "b37d84899ea34269aa7ea6b406d487cd": {
      "model_module": "@jupyter-widgets/controls",
      "model_module_version": "1.5.0",
      "model_name": "HTMLModel",
      "state": {
       "_dom_classes": [],
       "_model_module": "@jupyter-widgets/controls",
       "_model_module_version": "1.5.0",
       "_model_name": "HTMLModel",
       "_view_count": null,
       "_view_module": "@jupyter-widgets/controls",
       "_view_module_version": "1.5.0",
       "_view_name": "HTMLView",
       "description": "",
       "description_tooltip": null,
       "layout": "IPY_MODEL_9ef8d0742fd44abebfe44cc79c9000e9",
       "placeholder": "​",
       "style": "IPY_MODEL_f1fdb556a82349fbb6dcfa8efe959885",
       "value": "100%"
      }
     },
     "bac20268cd0744be892c7580d5caa7bf": {
      "model_module": "@jupyter-widgets/controls",
      "model_module_version": "1.5.0",
      "model_name": "HTMLModel",
      "state": {
       "_dom_classes": [],
       "_model_module": "@jupyter-widgets/controls",
       "_model_module_version": "1.5.0",
       "_model_name": "HTMLModel",
       "_view_count": null,
       "_view_module": "@jupyter-widgets/controls",
       "_view_module_version": "1.5.0",
       "_view_name": "HTMLView",
       "description": "",
       "description_tooltip": null,
       "layout": "IPY_MODEL_cfcda7ce24b44ba69627cd3f0ec51f98",
       "placeholder": "​",
       "style": "IPY_MODEL_decca289aa914cfc93268aa2a6b730fd",
       "value": " 81395/81395 [00:23&lt;00:00, 4008.72it/s]"
      }
     },
     "ce98366c845041488bc8ff1bdb80d21d": {
      "model_module": "@jupyter-widgets/base",
      "model_module_version": "1.2.0",
      "model_name": "LayoutModel",
      "state": {
       "_model_module": "@jupyter-widgets/base",
       "_model_module_version": "1.2.0",
       "_model_name": "LayoutModel",
       "_view_count": null,
       "_view_module": "@jupyter-widgets/base",
       "_view_module_version": "1.2.0",
       "_view_name": "LayoutView",
       "align_content": null,
       "align_items": null,
       "align_self": null,
       "border": null,
       "bottom": null,
       "display": null,
       "flex": null,
       "flex_flow": null,
       "grid_area": null,
       "grid_auto_columns": null,
       "grid_auto_flow": null,
       "grid_auto_rows": null,
       "grid_column": null,
       "grid_gap": null,
       "grid_row": null,
       "grid_template_areas": null,
       "grid_template_columns": null,
       "grid_template_rows": null,
       "height": null,
       "justify_content": null,
       "justify_items": null,
       "left": null,
       "margin": null,
       "max_height": null,
       "max_width": null,
       "min_height": null,
       "min_width": null,
       "object_fit": null,
       "object_position": null,
       "order": null,
       "overflow": null,
       "overflow_x": null,
       "overflow_y": null,
       "padding": null,
       "right": null,
       "top": null,
       "visibility": null,
       "width": null
      }
     },
     "cfcda7ce24b44ba69627cd3f0ec51f98": {
      "model_module": "@jupyter-widgets/base",
      "model_module_version": "1.2.0",
      "model_name": "LayoutModel",
      "state": {
       "_model_module": "@jupyter-widgets/base",
       "_model_module_version": "1.2.0",
       "_model_name": "LayoutModel",
       "_view_count": null,
       "_view_module": "@jupyter-widgets/base",
       "_view_module_version": "1.2.0",
       "_view_name": "LayoutView",
       "align_content": null,
       "align_items": null,
       "align_self": null,
       "border": null,
       "bottom": null,
       "display": null,
       "flex": null,
       "flex_flow": null,
       "grid_area": null,
       "grid_auto_columns": null,
       "grid_auto_flow": null,
       "grid_auto_rows": null,
       "grid_column": null,
       "grid_gap": null,
       "grid_row": null,
       "grid_template_areas": null,
       "grid_template_columns": null,
       "grid_template_rows": null,
       "height": null,
       "justify_content": null,
       "justify_items": null,
       "left": null,
       "margin": null,
       "max_height": null,
       "max_width": null,
       "min_height": null,
       "min_width": null,
       "object_fit": null,
       "object_position": null,
       "order": null,
       "overflow": null,
       "overflow_x": null,
       "overflow_y": null,
       "padding": null,
       "right": null,
       "top": null,
       "visibility": null,
       "width": null
      }
     },
     "decca289aa914cfc93268aa2a6b730fd": {
      "model_module": "@jupyter-widgets/controls",
      "model_module_version": "1.5.0",
      "model_name": "DescriptionStyleModel",
      "state": {
       "_model_module": "@jupyter-widgets/controls",
       "_model_module_version": "1.5.0",
       "_model_name": "DescriptionStyleModel",
       "_view_count": null,
       "_view_module": "@jupyter-widgets/base",
       "_view_module_version": "1.2.0",
       "_view_name": "StyleView",
       "description_width": ""
      }
     },
     "f1fdb556a82349fbb6dcfa8efe959885": {
      "model_module": "@jupyter-widgets/controls",
      "model_module_version": "1.5.0",
      "model_name": "DescriptionStyleModel",
      "state": {
       "_model_module": "@jupyter-widgets/controls",
       "_model_module_version": "1.5.0",
       "_model_name": "DescriptionStyleModel",
       "_view_count": null,
       "_view_module": "@jupyter-widgets/base",
       "_view_module_version": "1.2.0",
       "_view_name": "StyleView",
       "description_width": ""
      }
     }
    },
    "version_major": 2,
    "version_minor": 0
   }
  }
 },
 "nbformat": 4,
 "nbformat_minor": 5
}
